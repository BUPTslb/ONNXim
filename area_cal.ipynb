{
 "cells": [
  {
   "cell_type": "code",
   "execution_count": 21,
   "id": "2ad25262",
   "metadata": {},
   "outputs": [
    {
     "name": "stdout",
     "output_type": "stream",
     "text": [
      "The total area is 41.86 mm2\n",
      "The total area of PE is 1.86 mm2, 4.43 %\n",
      "The total compute of PE is 8192.00 GOPS\n",
      "The total area of SPAD is 34.82 mm2, 83.18 %, 16.0 MB\n",
      "The total area of ACCUM is 0.90 mm2, 2.14 %, 2.0 MB\n",
      "The total area of FLASH is 4.29 mm2, 10.24 %, 15 GB\n",
      "The single layer of DRAM is 0.99 GB\n",
      "The Hybrid bonding channel of DRAM is 509 channel, 4072 B/time\n",
      "The total bandwidth of DRAM is 408.19 GB/s\n"
     ]
    }
   ],
   "source": [
    "# 面积计算， 单位mm2\n",
    "# 当前问题：控制器、向量计算单元、NOC的面积怎么算\n",
    "# 参考面积：GEMMINI\n",
    "mac_unit_area=0.116/256 # 0.00725mm2\n",
    "spad_unit_area=0.544/256 # 0.002125mm2\n",
    "accum_unit_area=0.064/146 # mm2\n",
    "flash_unit_area=1/3.5 # mm2/GB\n",
    "freq=1000 # MHz\n",
    "\n",
    "# DRAM的密度\n",
    "dram_density=0.19/8 # GB/mm2\n",
    "# DRAM的单位面积带宽\n",
    "dram_bandwidth_unit=1.2*1024/126 # GB/s/mm2\n",
    "# PE的数量\n",
    "PE_num=1 \n",
    "# SSD的容量\n",
    "flash_mem=15 #GB\n",
    "# 可变参数配置\n",
    "spad_size=16384 #KB\n",
    "accum_spad_size=2048 #KB\n",
    "core_width= 64\n",
    "core_height= 64\n",
    "# SRAM总的容量 KB\n",
    "spad_num=PE_num*spad_size\n",
    "spad_area=spad_unit_area*spad_num\n",
    "# 寄存器总的容量 KB\n",
    "accum_num=PE_num*accum_spad_size\n",
    "accum_area=accum_unit_area*accum_num\n",
    "# PE中总的MAC单元数量\n",
    "mac_num=PE_num*core_width*core_height\n",
    "PE_area=mac_unit_area*mac_num\n",
    "# PE算力\n",
    "PE_compute=mac_num*2*freq/1000 # GOPS\n",
    "# SSD的面积\n",
    "flash_area=flash_unit_area*flash_mem\n",
    "# PE、SPAD、ACCUM、FLASH的面积之和\n",
    "Total_area=PE_area+spad_area+accum_area+flash_area\n",
    "# 单层DRAM的容量（部分）\n",
    "dram_capacity=Total_area*dram_density\n",
    "# DRAM的带宽\n",
    "dram_bandwidth=Total_area*dram_bandwidth_unit\n",
    "\n",
    "print(f\"The total area is {Total_area:.2f} mm2\")\n",
    "print(f\"The total area of PE is {PE_area:.2f} mm2, {PE_area/Total_area*100:.2f} %\")\n",
    "print(f\"The total compute of PE is {PE_compute:.2f} GOPS\")\n",
    "print(f\"The total area of SPAD is {spad_area:.2f} mm2, {spad_area/Total_area*100:.2f} %, {spad_size/1024} MB\")\n",
    "print(f\"The total area of ACCUM is {accum_area:.2f} mm2, {accum_area/Total_area*100:.2f} %, {accum_spad_size/1024} MB\")\n",
    "print(f\"The total area of FLASH is {flash_area:.2f} mm2, {flash_area/Total_area*100:.2f} %, {flash_mem} GB\")\n",
    "print(f\"The single layer of DRAM is {dram_capacity:.2f} GB\")\n",
    "print(f\"The Hybrid bonding channel of DRAM is {dram_capacity*1024/2:.0f} channel, {8*dram_capacity*1024/2:.0f} B/time\")\n",
    "print(f\"The total bandwidth of DRAM is {dram_bandwidth:.2f} GB/s\")\n"
   ]
  }
 ],
 "metadata": {
  "kernelspec": {
   "display_name": "base",
   "language": "python",
   "name": "python3"
  },
  "language_info": {
   "codemirror_mode": {
    "name": "ipython",
    "version": 3
   },
   "file_extension": ".py",
   "mimetype": "text/x-python",
   "name": "python",
   "nbconvert_exporter": "python",
   "pygments_lexer": "ipython3",
   "version": "3.12.9"
  }
 },
 "nbformat": 4,
 "nbformat_minor": 5
}

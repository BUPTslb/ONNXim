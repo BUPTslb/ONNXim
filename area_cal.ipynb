{
 "cells": [
  {
   "cell_type": "code",
   "execution_count": 6,
   "id": "2ad25262",
   "metadata": {},
   "outputs": [
    {
     "name": "stdout",
     "output_type": "stream",
     "text": [
      "The total area is 15.29 mm2\n",
      "The total area of PE is 1.86 mm2, 12.14 %\n",
      "The total compute of PE is 8192.00 GOPS\n",
      "The total area of SPAD is 8.70 mm2, 56.91 %, 4.0 MB\n",
      "The total area of ACCUM is 0.45 mm2, 2.93 %, 1.0 MB\n",
      "The total area of FLASH is 4.29 mm2, 28.02 %, 15 GB\n",
      "The single layer of DRAM is 0.19 GB\n",
      "The Hybrid bonding channel of DRAM is 97 channel, 776 Byte /time\n",
      "The total bandwidth of DRAM is 378.71 GB/s\n"
     ]
    }
   ],
   "source": [
    "# 面积计算， 单位mm2\n",
    "# 当前问题：控制器、向量计算单元、NOC的面积怎么算\n",
    "# 参考面积：GEMMINI\n",
    "mac_unit_area=0.116/256 # 0.000453mm2\n",
    "spad_unit_area=0.544/256 # 0.002125mm2\n",
    "accum_unit_area=0.064/146 # mm2\n",
    "flash_unit_area=1/3.5 # mm2/GB\n",
    "freq=1000 # MHz\n",
    "\n",
    "# 控制器面积\n",
    "controller_area=0.1 # mm2\n",
    "# NOC面积\n",
    "noc_area=0.1 # mm2\n",
    "# DRAM控制器的面积，按照ISCA24，占据逻辑层17%的面积\n",
    "dram_controller_area=0.17 # 百分比\n",
    "\n",
    "\n",
    "# DRAM的密度\n",
    "dram_density=0.0172 # GB/mm2\n",
    "# DRAM的单位面积带宽\n",
    "dram_bandwidth_unit=1.2*1024/126 # GB/s/mm2\n",
    "# PE的数量\n",
    "PE_num=1 \n",
    "# SSD的容量\n",
    "flash_mem=15 #GB\n",
    "# 可变参数配置\n",
    "spad_size=256*4*4 #KB\n",
    "accum_spad_size=64*4*4 #KB\n",
    "core_width= 64\n",
    "core_height= 64\n",
    "# SRAM总的容量 KB\n",
    "spad_num=PE_num*spad_size\n",
    "spad_area=spad_unit_area*spad_num\n",
    "# 寄存器总的容量 KB\n",
    "accum_num=PE_num*accum_spad_size\n",
    "accum_area=accum_unit_area*accum_num\n",
    "# PE中总的MAC单元数量\n",
    "mac_num=PE_num*core_width*core_height\n",
    "PE_area=mac_unit_area*mac_num\n",
    "# PE算力, FREQ是MHz\n",
    "PE_compute=mac_num*2*freq/1000 # GOPS\n",
    "# SSD的面积\n",
    "flash_area=flash_unit_area*flash_mem\n",
    "# PE、SPAD、ACCUM、FLASH的面积之和\n",
    "Total_area=PE_area+spad_area+accum_area+flash_area\n",
    "# 单层DRAM的容量（部分）\n",
    "dram_capacity=(PE_area+spad_area+accum_area)*dram_density\n",
    "# DRAM的带宽\n",
    "dram_bandwidth=dram_capacity/2*8*500\n",
    "\n",
    "print(f\"The total area is {Total_area:.2f} mm2\")\n",
    "print(f\"The total area of PE is {PE_area:.2f} mm2, {PE_area/Total_area*100:.2f} %\")\n",
    "print(f\"The total compute of PE is {PE_compute:.2f} GOPS\")\n",
    "print(f\"The total area of SPAD is {spad_area:.2f} mm2, {spad_area/Total_area*100:.2f} %, {spad_size/1024} MB\")\n",
    "print(f\"The total area of ACCUM is {accum_area:.2f} mm2, {accum_area/Total_area*100:.2f} %, {accum_spad_size/1024} MB\")\n",
    "print(f\"The total area of FLASH is {flash_area:.2f} mm2, {flash_area/Total_area*100:.2f} %, {flash_mem} GB\")\n",
    "print(f\"The single layer of DRAM is {dram_capacity:.2f} GB\")\n",
    "print(f\"The Hybrid bonding channel of DRAM is {dram_capacity*1024/2:.0f} channel, {8*dram_capacity*1024/2:.0f} Byte /time\")\n",
    "print(f\"The total bandwidth of DRAM is {dram_bandwidth:.2f} GB/s\")\n"
   ]
  }
 ],
 "metadata": {
  "kernelspec": {
   "display_name": "base",
   "language": "python",
   "name": "python3"
  },
  "language_info": {
   "codemirror_mode": {
    "name": "ipython",
    "version": 3
   },
   "file_extension": ".py",
   "mimetype": "text/x-python",
   "name": "python",
   "nbconvert_exporter": "python",
   "pygments_lexer": "ipython3",
   "version": "3.12.9"
  }
 },
 "nbformat": 4,
 "nbformat_minor": 5
}
